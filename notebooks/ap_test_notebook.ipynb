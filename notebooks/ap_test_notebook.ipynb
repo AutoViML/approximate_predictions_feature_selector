{
 "cells": [
  {
   "cell_type": "code",
   "execution_count": 5,
   "metadata": {},
   "outputs": [],
   "source": [
    "import pandas as pd\n",
    "import numpy as np\n",
    "from ap_feature_selector import AP_Feature_Selector\n",
    "from sklearn.metrics import log_loss, r2_score\n",
    "from sklearn.datasets import load_breast_cancer, load_iris, fetch_california_housing\n",
    "from lightgbm import LGBMRegressor, LGBMClassifier\n"
   ]
  },
  {
   "cell_type": "code",
   "execution_count": 7,
   "metadata": {},
   "outputs": [
    {
     "name": "stdout",
     "output_type": "stream",
     "text": [
      "8 Original features\n",
      "8 selected features: ['Longitude', 'AveOccup', 'Latitude', 'AveRooms', 'Population', 'MedInc', 'HouseAge', 'AveBedrms']\n"
     ]
    }
   ],
   "source": [
    "# Test with regression\n",
    "X, y = fetch_california_housing(return_X_y=True, as_frame=True)\n",
    "selector = AP_Feature_Selector(estimator=LGBMRegressor(random_state=42,verbose=-1,num_leaves=8))\n",
    "print(f\"{X.shape[1]} Original features\")\n",
    "selector.fit(X, y)\n",
    "print(f\"{len(selector.selected_features_)} selected features: {selector.selected_features_}\")"
   ]
  },
  {
   "cell_type": "code",
   "execution_count": 8,
   "metadata": {},
   "outputs": [
    {
     "name": "stdout",
     "output_type": "stream",
     "text": [
      "30 Original features\n",
      "14 selected features: ['worst concavity', 'symmetry error', 'mean area', 'worst compactness', 'radius error', 'perimeter error', 'worst perimeter', 'mean concavity', 'compactness error', 'mean texture', 'texture error', 'mean concave points', 'concave points error', 'worst smoothness']\n"
     ]
    }
   ],
   "source": [
    "# Test with binary classification\n",
    "X, y = load_breast_cancer(return_X_y=True, as_frame=True)\n",
    "selector = AP_Feature_Selector(LGBMClassifier(random_state=42,verbose=-1,num_leaves=8))\n",
    "print(f\"{X.shape[1]} Original features\")\n",
    "selector.fit(X, y)\n",
    "print(f\"{len(selector.selected_features_)} selected features: {selector.selected_features_}\")"
   ]
  },
  {
   "cell_type": "code",
   "execution_count": 9,
   "metadata": {},
   "outputs": [
    {
     "name": "stdout",
     "output_type": "stream",
     "text": [
      "4 Original features\n",
      "3 selected features: ['petal length (cm)', 'petal width (cm)', 'sepal width (cm)']\n"
     ]
    }
   ],
   "source": [
    "# Test with Multi-class classification\n",
    "X, y = load_iris(return_X_y=True, as_frame=True)\n",
    "selector = AP_Feature_Selector(LGBMClassifier(random_state=42,verbose=-1,num_leaves=8))\n",
    "print(f\"{X.shape[1]} Original features\")\n",
    "selector.fit(X, y)\n",
    "print(f\"{len(selector.selected_features_)} selected features: {selector.selected_features_}\")"
   ]
  },
  {
   "cell_type": "code",
   "execution_count": null,
   "metadata": {},
   "outputs": [],
   "source": []
  }
 ],
 "metadata": {
  "kernelspec": {
   "display_name": "base",
   "language": "python",
   "name": "python3"
  },
  "language_info": {
   "codemirror_mode": {
    "name": "ipython",
    "version": 3
   },
   "file_extension": ".py",
   "mimetype": "text/x-python",
   "name": "python",
   "nbconvert_exporter": "python",
   "pygments_lexer": "ipython3",
   "version": "3.12.3"
  }
 },
 "nbformat": 4,
 "nbformat_minor": 2
}
